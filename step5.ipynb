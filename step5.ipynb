{
 "cells": [
  {
   "cell_type": "code",
   "execution_count": 11,
   "id": "73412350-4e61-4654-b1ca-c3664ab0200c",
   "metadata": {},
   "outputs": [],
   "source": [
    "import warnings\n",
    "\n",
    "warnings.filterwarnings('ignore', category=FutureWarning)\n",
    "\n",
    "# Reading the file\n",
    "import pandas as pd\n",
    "\n",
    "df = pd.read_csv('C:\\\\Users\\\\elhaw\\\\JupyterLab Projects\\\\Final Project\\\\fifa19.csv')\n",
    "\n",
    "# Check for columns with high percentage of missing values\n",
    "missing_data = df.isnull().mean() * 100\n",
    "columns_with_missing_data = missing_data[missing_data > 0].sort_values(ascending=False)\n",
    "\n",
    "# Drop columns with more than 50% missing values\n",
    "df = df.drop(columns=columns_with_missing_data[columns_with_missing_data > 50].index)\n",
    "\n",
    "# Fill missing values in numeric columns with the median\n",
    "for col in df.select_dtypes(include=['float64', 'int64']).columns:\n",
    "    df[col] = df[col].fillna(df[col].median())\n",
    "\n",
    "# Handle categorical columns by replacing missing values with the mode\n",
    "for col in df.select_dtypes(include=['object']).columns:\n",
    "    df[col] = df[col].fillna(df[col].mode()[0])\n",
    "\n",
    "# Convert date columns to DateTime format\n",
    "df['birth_date'] = pd.to_datetime(df['birth_date'])\n",
    "\n",
    "# Ensure correct data types\n",
    "df['club_jersey_number'] = df['club_jersey_number'].astype(float)\n",
    "\n",
    "df['BMI'] = df['weight_kgs'] / (df['height_cm'] / 100) ** 2\n",
    "\n",
    "# Extract the primary position from the position list\n",
    "df['primary_position'] = df['positions'].apply(lambda x: x.split(',')[0])"
   ]
  },
  {
   "cell_type": "code",
   "execution_count": 89,
   "id": "7a29971e-5cfc-462a-9e24-737ba39adaa1",
   "metadata": {},
   "outputs": [],
   "source": [
    "from sklearn.model_selection import train_test_split\n",
    "\n",
    "# Feature selection\n",
    "features = [\"crossing\", \"finishing\", \"heading_accuracy\", \"short_passing\", \"volleys\",\n",
    "    \"dribbling\", \"curve\", \"freekick_accuracy\", \"long_passing\", \"ball_control\",\n",
    "    \"acceleration\", \"sprint_speed\", \"agility\", \"reactions\", \"balance\",\n",
    "    \"shot_power\", \"jumping\", \"stamina\", \"strength\", \"long_shots\",\n",
    "    \"aggression\", \"interceptions\", \"positioning\", \"vision\", \"penalties\",\n",
    "    \"composure\", \"marking\", \"standing_tackle\", \"sliding_tackle\",\n",
    "    \"GK_diving\", \"GK_handling\", \"GK_kicking\", \"GK_positioning\", \"GK_reflexes\", 'weak_foot(1-5)', 'skill_moves(1-5)', 'international_reputation(1-5)', 'potential', 'age', 'height_cm', 'weight_kgs']\n",
    "target_value = 'value_euro'\n",
    "target_overall = 'overall_rating'\n",
    "\n",
    "# Prepare the DataFrame\n",
    "X = df[features]\n",
    "y_value = df[target_value]\n",
    "y_overall = df[target_potential]\n",
    "\n",
    "# Handling categorical data\n",
    "X = pd.get_dummies(X, drop_first=True)\n",
    "\n",
    "# Split data into training and test sets for market value prediction\n",
    "X_train_value, X_test_value, y_train_value, y_test_value = train_test_split(X, y_value, test_size=0.2, random_state=42)\n",
    "\n",
    "# Split data for a potential prediction\n",
    "X_train_overall, X_test_overall, y_train_overall, y_test_overall = train_test_split(X, y_overall, test_size=0.2, random_state=42)"
   ]
  },
  {
   "cell_type": "code",
   "execution_count": 99,
   "id": "c97bad89-3d95-46a4-b2b5-f4bca0559e8a",
   "metadata": {},
   "outputs": [
    {
     "name": "stdout",
     "output_type": "stream",
     "text": [
      "MSE: 15366938321419.674, R²: 0.5879133199668214\n"
     ]
    }
   ],
   "source": [
    "from sklearn.linear_model import LinearRegression\n",
    "from sklearn.metrics import mean_squared_error, r2_score\n",
    "\n",
    "# Initialize the model\n",
    "model_value = LinearRegression()\n",
    "\n",
    "# Train the model\n",
    "model_value.fit(X_train_value, y_train_value)\n",
    "\n",
    "# Predict on the test set\n",
    "y_pred_value = model_value.predict(X_test_value)\n",
    "\n",
    "# Evaluate the model\n",
    "mse_value = mean_squared_error(y_test_value, y_pred_value)\n",
    "r2_value = r2_score(y_test_value, y_pred_value)\n",
    "\n",
    "print(f'MSE: {mse_value}, R²: {r2_value}')"
   ]
  },
  {
   "cell_type": "code",
   "execution_count": 101,
   "id": "5aaa626e-84ef-4484-804f-24f3e8f24a4d",
   "metadata": {},
   "outputs": [
    {
     "name": "stdout",
     "output_type": "stream",
     "text": [
      "MSE: 6.402972261314623, R²: 0.8317949226483395\n"
     ]
    }
   ],
   "source": [
    "# Initialize the model\n",
    "model_overall = LinearRegression()\n",
    "\n",
    "# Train the model\n",
    "model_overall.fit(X_train_overall, y_train_overall)\n",
    "\n",
    "# Predict on the test set\n",
    "y_pred_overall = model_overall.predict(X_test_overall)\n",
    "\n",
    "# Evaluate the model\n",
    "mse_overall = mean_squared_error(y_test_overall, y_pred_overall)\n",
    "r2_overall = r2_score(y_test_overall, y_pred_overall)\n",
    "\n",
    "print(f'MSE: {mse_potential}, R²: {r2_potential}')\n"
   ]
  },
  {
   "cell_type": "code",
   "execution_count": null,
   "id": "8d9c8c39-69e2-4460-8094-671d4cd1b59a",
   "metadata": {},
   "outputs": [],
   "source": []
  }
 ],
 "metadata": {
  "kernelspec": {
   "display_name": "Python 3 (ipykernel)",
   "language": "python",
   "name": "python3"
  },
  "language_info": {
   "codemirror_mode": {
    "name": "ipython",
    "version": 3
   },
   "file_extension": ".py",
   "mimetype": "text/x-python",
   "name": "python",
   "nbconvert_exporter": "python",
   "pygments_lexer": "ipython3",
   "version": "3.11.7"
  }
 },
 "nbformat": 4,
 "nbformat_minor": 5
}
